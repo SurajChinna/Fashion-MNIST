{
 "cells": [
  {
   "cell_type": "code",
   "execution_count": 2,
   "metadata": {},
   "outputs": [],
   "source": [
    "#importing the libraries\n",
    "import torch\n",
    "from torchvision import datasets, transforms\n",
    "import torch.nn.functional as F\n",
    "from torch import nn\n",
    "from torch import optim\n",
    "from collections import OrderedDict\n",
    "\n",
    "import numpy as np\n",
    "import matplotlib.pyplot as plt\n"
   ]
  },
  {
   "cell_type": "code",
   "execution_count": 3,
   "metadata": {},
   "outputs": [
    {
     "name": "stdout",
     "output_type": "stream",
     "text": [
      "Downloading http://fashion-mnist.s3-website.eu-central-1.amazonaws.com/train-images-idx3-ubyte.gz\n",
      "Downloading http://fashion-mnist.s3-website.eu-central-1.amazonaws.com/train-labels-idx1-ubyte.gz\n",
      "Downloading http://fashion-mnist.s3-website.eu-central-1.amazonaws.com/t10k-images-idx3-ubyte.gz\n",
      "Downloading http://fashion-mnist.s3-website.eu-central-1.amazonaws.com/t10k-labels-idx1-ubyte.gz\n",
      "Processing...\n",
      "Done!\n"
     ]
    }
   ],
   "source": [
    "#defining the transformations for each image\n",
    "transform = transforms.Compose([transforms.ToTensor(),\n",
    "                               transforms.Normalize((0.5,),(0.5,))])\n",
    "\n",
    "#getting the data for training and testing\n",
    "trainset = datasets.FashionMNIST('F_MNIST_data/', train=True, transform=transform, download=True)\n",
    "testset = datasets.FashionMNIST('F_MNIST_data/', train=False, transform=transform, download=True)\n",
    "\n",
    "#creation of generators that can be used to get images and labels of batch_size as defined\n",
    "trainloader = torch.utils.data.DataLoader(trainset, batch_size=64, shuffle=True)\n",
    "testloader = torch.utils.data.DataLoader(testset, batch_size=64, shuffle=True)"
   ]
  },
  {
   "cell_type": "code",
   "execution_count": 7,
   "metadata": {},
   "outputs": [
    {
     "name": "stdout",
     "output_type": "stream",
     "text": [
      "tensor(2)\n"
     ]
    },
    {
     "data": {
      "image/png": "[encoded data removed]",
      "text/plain": [
       "<Figure size 432x288 with 1 Axes>"
      ]
     },
     "metadata": {},
     "output_type": "display_data"
    }
   ],
   "source": [
    "#Just visualising the data\n",
    "images, labels = iter(trainloader).next()\n",
    "\n",
    "print(labels[0])\n",
    "\n",
    "plt.imshow(images[0].numpy().squeeze(), cmap='Greys_r');"
   ]
  },
  {
   "cell_type": "markdown",
   "metadata": {},
   "source": [
    "We could see that the `labels[0]` correspond to tensor(2) and the image shown is also sweat shirt."
   ]
  },
  {
   "cell_type": "markdown",
   "metadata": {},
   "source": [
    "### Defining the model\n",
    "This is one way of defining the model using `nn.Sequential`. There is also another way of defining the model by sub classing the `nn.Module`"
   ]
  },
  {
   "cell_type": "code",
   "execution_count": 12,
   "metadata": {},
   "outputs": [
    {
     "data": {
      "text/plain": [
       "Sequential(\n",
       "  (fc1): Linear(in_features=784, out_features=256, bias=True)\n",
       "  (relu1): ReLU()\n",
       "  (fc2): Linear(in_features=256, out_features=128, bias=True)\n",
       "  (relu2): ReLU()\n",
       "  (fc3): Linear(in_features=128, out_features=64, bias=True)\n",
       "  (relu3): ReLU()\n",
       "  (fc4): Linear(in_features=64, out_features=10, bias=True)\n",
       "  (log_soft1): LogSoftmax()\n",
       ")"
      ]
     },
     "execution_count": 12,
     "metadata": {},
     "output_type": "execute_result"
    }
   ],
   "source": [
    "input_size = 784\n",
    "hidden_size = [256, 128, 64]\n",
    "output_size = 10\n",
    "\n",
    "\n",
    "model = nn.Sequential(OrderedDict([\n",
    "    ('fc1', nn.Linear(input_size, hidden_size[0])),\n",
    "    ('relu1', nn.ReLU()),\n",
    "    ('fc2', nn.Linear(hidden_size[0], hidden_size[1])),\n",
    "    ('relu2', nn.ReLU()),\n",
    "    ('fc3', nn.Linear(hidden_size[1], hidden_size[2])),\n",
    "    ('relu3', nn.ReLU()),\n",
    "    ('fc4', nn.Linear(hidden_size[2], output_size)),\n",
    "    ('log_soft1', nn.LogSoftmax(dim=1))\n",
    "]))\n",
    "\n",
    "model"
   ]
  },
  {
   "cell_type": "code",
   "execution_count": 14,
   "metadata": {},
   "outputs": [],
   "source": [
    "#we will use Negative Logarithmic Loss as our loss function and Adam optimizer\n",
    "criterion = nn.NLLLoss()\n",
    "optimizer = optim.Adam(model.parameters(), lr=0.001)"
   ]
  },
  {
   "cell_type": "code",
   "execution_count": 15,
   "metadata": {},
   "outputs": [
    {
     "name": "stdout",
     "output_type": "stream",
     "text": [
      "Epochs 1/15: Training loss: 0.519 Testing loss: 0.422 Test Accuracy: 0.845\n",
      "Epochs 2/15: Training loss: 0.372 Testing loss: 0.372 Test Accuracy: 0.865\n",
      "Epochs 3/15: Training loss: 0.334 Testing loss: 0.395 Test Accuracy: 0.857\n",
      "Epochs 4/15: Training loss: 0.314 Testing loss: 0.351 Test Accuracy: 0.873\n",
      "Epochs 5/15: Training loss: 0.294 Testing loss: 0.346 Test Accuracy: 0.873\n",
      "Epochs 6/15: Training loss: 0.278 Testing loss: 0.353 Test Accuracy: 0.871\n",
      "Epochs 7/15: Training loss: 0.264 Testing loss: 0.347 Test Accuracy: 0.877\n",
      "Epochs 8/15: Training loss: 0.251 Testing loss: 0.334 Test Accuracy: 0.883\n",
      "Epochs 9/15: Training loss: 0.239 Testing loss: 0.354 Test Accuracy: 0.877\n",
      "Epochs 10/15: Training loss: 0.230 Testing loss: 0.338 Test Accuracy: 0.886\n",
      "Epochs 11/15: Training loss: 0.218 Testing loss: 0.355 Test Accuracy: 0.880\n",
      "Epochs 12/15: Training loss: 0.210 Testing loss: 0.375 Test Accuracy: 0.879\n",
      "Epochs 13/15: Training loss: 0.202 Testing loss: 0.339 Test Accuracy: 0.883\n",
      "Epochs 14/15: Training loss: 0.191 Testing loss: 0.341 Test Accuracy: 0.890\n",
      "Epochs 15/15: Training loss: 0.187 Testing loss: 0.344 Test Accuracy: 0.890\n"
     ]
    }
   ],
   "source": [
    "epochs = 15\n",
    "running_loss = 0\n",
    "steps = 0\n",
    "print_every = 50\n",
    "\n",
    "train_losses, test_losses = [], []\n",
    "for e in range(epochs):\n",
    "    running_loss = 0\n",
    "    for images, labels in trainloader:\n",
    "        steps += 1\n",
    "        \n",
    "        #reshaping the 28x28 image to 784 to pass into the model.\n",
    "        images = images.view(images.shape[0], -1)\n",
    "        \n",
    "        #clearning the gradients\n",
    "        optimizer.zero_grad()\n",
    "        #passing the images through the model\n",
    "        logits = model(images)\n",
    "        #calculating the loss\n",
    "        loss = criterion(logits, labels)\n",
    "        #passing the loss backward\n",
    "        loss.backward()\n",
    "        #updating the weights\n",
    "        optimizer.step()\n",
    "        \n",
    "        running_loss += loss.item()\n",
    "        \n",
    "      \n",
    "    else:\n",
    "        #here we will validate the model that is trained till now.\n",
    "        with torch.no_grad():\n",
    "            accuracy = 0\n",
    "            test_loss = 0\n",
    "            \n",
    "            for images, labels in testloader:\n",
    "                \n",
    "                images = images.view(images.shape[0], -1)\n",
    "                \n",
    "                logits = model(images)\n",
    "                test_loss += criterion(logits, labels)\n",
    "                \n",
    "                output = torch.exp(logits)\n",
    "                \n",
    "                top_p, top_class = output.topk(1, dim=1)\n",
    "                equals = top_class == labels.view(*top_class.shape)\n",
    "                \n",
    "                accuracy += torch.mean(equals.type(torch.FloatTensor))\n",
    "            \n",
    "            train_losses.append(running_loss/len(trainloader))\n",
    "            test_losses.append(test_loss/len(testloader))\n",
    "                \n",
    "            print('Epochs {}/{}:'.format(e+1, epochs),\n",
    "                 'Training loss: {:.3f}'.format(running_loss/len(trainloader)), \n",
    "                 'Testing loss: {:.3f}'.format(test_loss/len(testloader)),\n",
    "                 'Test Accuracy: {:.3f}'.format(accuracy/len(testloader)))\n",
    "                "
   ]
  },
  {
   "cell_type": "code",
   "execution_count": 16,
   "metadata": {},
   "outputs": [
    {
     "data": {
      "image/png": "[encoded data removed]",
      "text/plain": [
       "<Figure size 432x288 with 1 Axes>"
      ]
     },
     "metadata": {},
     "output_type": "display_data"
    }
   ],
   "source": [
    "#plotting the training and testing loss that we have stored.\n",
    "plt.plot(train_losses, label='Training Loss')\n",
    "plt.plot(test_losses, label='Testing Loss')\n",
    "plt.legend();"
   ]
  },
  {
   "cell_type": "markdown",
   "metadata": {},
   "source": [
    "Here in the graph we see that, our training loss decreses with number of epochs, but our testing loss decreases in the first few epochs and next it starts increasing. This is because the model overfits on the data. To get rid of overfitting we use the `Dropout`. The notebook using `Dropout` can be found with name `Fashion MNIST Dropout`"
   ]
  },
  {
   "cell_type": "code",
   "execution_count": 28,
   "metadata": {},
   "outputs": [
    {
     "name": "stdout",
     "output_type": "stream",
     "text": [
      "T-shirt/top\n"
     ]
    },
    {
     "data": {
      "image/png": "[encoded data removed]",
      "text/plain": [
       "<Figure size 1008x432 with 2 Axes>"
      ]
     },
     "metadata": {},
     "output_type": "display_data"
    }
   ],
   "source": [
    "#Here we plot the image and the prediction from the output. \n",
    "\n",
    "#gets the images and labels\n",
    "images, labels = next(iter(testloader))\n",
    "img = images[0].view(1,-1)\n",
    "\n",
    "#passes the images from the model\n",
    "logits = torch.exp(model(img))\n",
    "\n",
    "\n",
    "\n",
    "plt.figure(figsize=[14,6])\n",
    "plt.subplot(1,2,1)\n",
    "plt.imshow(images[0].numpy().squeeze(), cmap='Greys_r')\n",
    "\n",
    "y = logits.detach().numpy()\n",
    "N = y.shape[1]\n",
    "x = np.arange(N)\n",
    "\n",
    "plt.subplot(1,2,2)\n",
    "plt.bar(x,y.squeeze())\n",
    "xl = ['T-shirt/top', 'Trouser', 'Pullover', 'Dress', 'Coat', 'Sandal', 'Shirt', 'Sneaker', 'Bag', 'Ankle boot']\n",
    "plt.xticks(x,xl, rotation=45);\n",
    "\n",
    "print(xl[labels[0].item()])"
   ]
  },
  {
   "cell_type": "code",
   "execution_count": null,
   "metadata": {},
   "outputs": [],
   "source": []
  }
 ],
 "metadata": {
  "kernelspec": {
   "display_name": "Python 3",
   "language": "python",
   "name": "python3"
  },
  "language_info": {
   "codemirror_mode": {
    "name": "ipython",
    "version": 3
   },
   "file_extension": ".py",
   "mimetype": "text/x-python",
   "name": "python",
   "nbconvert_exporter": "python",
   "pygments_lexer": "ipython3",
   "version": "3.6.6"
  }
 },
 "nbformat": 4,
 "nbformat_minor": 2
}
