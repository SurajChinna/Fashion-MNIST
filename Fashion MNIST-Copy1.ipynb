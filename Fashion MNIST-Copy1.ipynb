{
 "cells": [
  {
   "cell_type": "markdown",
   "metadata": {},
   "source": [
    "The basic notebook can be found with the name `Fashion MNIST`. this notebook is also same as that one, but here we intorduce `Dropout` which is a mechanism through which Overfitting can be controlled."
   ]
  },
  {
   "cell_type": "code",
   "execution_count": 1,
   "metadata": {},
   "outputs": [],
   "source": [
    "#importing the libraries\n",
    "import torch\n",
    "from torchvision import datasets, transforms\n",
    "import torch.nn.functional as F\n",
    "from torch import nn\n",
    "from torch import optim\n",
    "from collections import OrderedDict\n",
    "\n",
    "import numpy as np\n",
    "import matplotlib.pyplot as plt\n"
   ]
  },
  {
   "cell_type": "code",
   "execution_count": 2,
   "metadata": {},
   "outputs": [],
   "source": [
    "#defining the transformations for each image\n",
    "transform = transforms.Compose([transforms.ToTensor(),\n",
    "                               transforms.Normalize((0.5,),(0.5,))])\n",
    "\n",
    "#getting the data for training and testing\n",
    "trainset = datasets.FashionMNIST('F_MNIST_data/', train=True, transform=transform, download=True)\n",
    "testset = datasets.FashionMNIST('F_MNIST_data/', train=False, transform=transform, download=True)\n",
    "\n",
    "#creation of generators that can be used to get images and labels of batch_size as defined\n",
    "trainloader = torch.utils.data.DataLoader(trainset, batch_size=64, shuffle=True)\n",
    "testloader = torch.utils.data.DataLoader(testset, batch_size=64, shuffle=True)"
   ]
  },
  {
   "cell_type": "code",
   "execution_count": 3,
   "metadata": {},
   "outputs": [
    {
     "name": "stdout",
     "output_type": "stream",
     "text": [
      "tensor(9)\n"
     ]
    },
    {
     "data": {
      "image/png": "[encoded data removed]",
      "text/plain": [
       "<Figure size 432x288 with 1 Axes>"
      ]
     },
     "metadata": {},
     "output_type": "display_data"
    }
   ],
   "source": [
    "#Just visualising the data\n",
    "images, labels = iter(trainloader).next()\n",
    "\n",
    "print(labels[0])\n",
    "\n",
    "plt.imshow(images[0].numpy().squeeze(), cmap='Greys_r');"
   ]
  },
  {
   "cell_type": "markdown",
   "metadata": {},
   "source": [
    "We could see that the `labels[0]` correspond to tensor(9) and the image shown is also a Boot"
   ]
  },
  {
   "cell_type": "markdown",
   "metadata": {},
   "source": [
    "### Defining the model\n",
    "This is one way of defining the model using `nn.Sequential`. There is also an another way of defining the model by sub classing `nn.Module`. Now in the model definition you can see that, I have used `nn.Dropout(0.2)` which is used to drop the nodes of network randomly which prevents overfitting. `0.2` specifies the probability with which each node should be disabled."
   ]
  },
  {
   "cell_type": "code",
   "execution_count": 5,
   "metadata": {},
   "outputs": [
    {
     "data": {
      "text/plain": [
       "Sequential(\n",
       "  (fc1): Linear(in_features=784, out_features=256, bias=True)\n",
       "  (relu1): ReLU()\n",
       "  (dropout1): Dropout(p=0.2)\n",
       "  (fc2): Linear(in_features=256, out_features=128, bias=True)\n",
       "  (relu2): ReLU()\n",
       "  (dropout2): Dropout(p=0.2)\n",
       "  (fc3): Linear(in_features=128, out_features=64, bias=True)\n",
       "  (relu3): ReLU()\n",
       "  (dropout3): Dropout(p=0.2)\n",
       "  (fc4): Linear(in_features=64, out_features=10, bias=True)\n",
       "  (log_soft1): LogSoftmax()\n",
       ")"
      ]
     },
     "execution_count": 5,
     "metadata": {},
     "output_type": "execute_result"
    }
   ],
   "source": [
    "input_size = 784\n",
    "hidden_size = [256, 128, 64]\n",
    "output_size = 10\n",
    "\n",
    "\n",
    "model = nn.Sequential(OrderedDict([\n",
    "    ('fc1', nn.Linear(input_size, hidden_size[0])),\n",
    "    ('relu1', nn.ReLU()),\n",
    "    ('dropout1', nn.Dropout(0.2)),\n",
    "    ('fc2', nn.Linear(hidden_size[0], hidden_size[1])),\n",
    "    ('relu2', nn.ReLU()),\n",
    "    ('dropout2', nn.Dropout(0.2)),\n",
    "    ('fc3', nn.Linear(hidden_size[1], hidden_size[2])),\n",
    "    ('relu3', nn.ReLU()),\n",
    "    ('dropout3', nn.Dropout(0.2)),\n",
    "    ('fc4', nn.Linear(hidden_size[2], output_size)),\n",
    "    ('log_soft1', nn.LogSoftmax(dim=1))\n",
    "]))\n",
    "\n",
    "model"
   ]
  },
  {
   "cell_type": "code",
   "execution_count": 6,
   "metadata": {},
   "outputs": [],
   "source": [
    "#we will use Negative Logarithmic Loss as our loss function and Adam optimizer\n",
    "criterion = nn.NLLLoss()\n",
    "optimizer = optim.Adam(model.parameters(), lr=0.001)"
   ]
  },
  {
   "cell_type": "code",
   "execution_count": 7,
   "metadata": {},
   "outputs": [
    {
     "name": "stdout",
     "output_type": "stream",
     "text": [
      "Epochs 1/15: Training loss: 0.595 Testing loss: 0.443 Test Accuracy: 0.838\n",
      "Epochs 2/15: Training loss: 0.438 Testing loss: 0.414 Test Accuracy: 0.848\n",
      "Epochs 3/15: Training loss: 0.395 Testing loss: 0.400 Test Accuracy: 0.856\n",
      "Epochs 4/15: Training loss: 0.372 Testing loss: 0.429 Test Accuracy: 0.841\n",
      "Epochs 5/15: Training loss: 0.356 Testing loss: 0.360 Test Accuracy: 0.872\n",
      "Epochs 6/15: Training loss: 0.341 Testing loss: 0.365 Test Accuracy: 0.868\n",
      "Epochs 7/15: Training loss: 0.332 Testing loss: 0.361 Test Accuracy: 0.872\n",
      "Epochs 8/15: Training loss: 0.318 Testing loss: 0.340 Test Accuracy: 0.882\n",
      "Epochs 9/15: Training loss: 0.310 Testing loss: 0.338 Test Accuracy: 0.880\n",
      "Epochs 10/15: Training loss: 0.305 Testing loss: 0.344 Test Accuracy: 0.879\n",
      "Epochs 11/15: Training loss: 0.298 Testing loss: 0.331 Test Accuracy: 0.881\n",
      "Epochs 12/15: Training loss: 0.287 Testing loss: 0.342 Test Accuracy: 0.881\n",
      "Epochs 13/15: Training loss: 0.287 Testing loss: 0.348 Test Accuracy: 0.881\n",
      "Epochs 14/15: Training loss: 0.280 Testing loss: 0.340 Test Accuracy: 0.882\n",
      "Epochs 15/15: Training loss: 0.275 Testing loss: 0.338 Test Accuracy: 0.880\n"
     ]
    }
   ],
   "source": [
    "epochs = 15\n",
    "running_loss = 0\n",
    "steps = 0\n",
    "print_every = 50\n",
    "\n",
    "train_losses, test_losses = [], []\n",
    "for e in range(epochs):\n",
    "    running_loss = 0\n",
    "    \n",
    "    #this is turn the dropouts on\n",
    "    model.train()\n",
    "    for images, labels in trainloader:\n",
    "        steps += 1\n",
    "        \n",
    "        #reshaping the 28x28 image to 784 to pass into the model.\n",
    "        images = images.view(images.shape[0], -1)\n",
    "        \n",
    "        #clearning the gradients\n",
    "        optimizer.zero_grad()\n",
    "        #passing the images through the model\n",
    "        logits = model(images)\n",
    "        #calculating the loss\n",
    "        loss = criterion(logits, labels)\n",
    "        #passing the loss backward\n",
    "        loss.backward()\n",
    "        #updating the weights\n",
    "        optimizer.step()\n",
    "        \n",
    "        running_loss += loss.item()\n",
    "        \n",
    "      \n",
    "    else:\n",
    "        #here we will validate the model that is trained till now.\n",
    "        with torch.no_grad():\n",
    "            #this line will turns the dropouts off as we do not use them while testing the model\n",
    "            model.eval()\n",
    "            accuracy = 0\n",
    "            test_loss = 0\n",
    "            \n",
    "            for images, labels in testloader:\n",
    "                \n",
    "                images = images.view(images.shape[0], -1)\n",
    "                \n",
    "                logits = model(images)\n",
    "                test_loss += criterion(logits, labels)\n",
    "                \n",
    "                output = torch.exp(logits)\n",
    "                \n",
    "                top_p, top_class = output.topk(1, dim=1)\n",
    "                equals = top_class == labels.view(*top_class.shape)\n",
    "                \n",
    "                accuracy += torch.mean(equals.type(torch.FloatTensor))\n",
    "            \n",
    "            train_losses.append(running_loss/len(trainloader))\n",
    "            test_losses.append(test_loss/len(testloader))\n",
    "                \n",
    "            print('Epochs {}/{}:'.format(e+1, epochs),\n",
    "                 'Training loss: {:.3f}'.format(running_loss/len(trainloader)), \n",
    "                 'Testing loss: {:.3f}'.format(test_loss/len(testloader)),\n",
    "                 'Test Accuracy: {:.3f}'.format(accuracy/len(testloader)))\n",
    "                "
   ]
  },
  {
   "cell_type": "code",
   "execution_count": 8,
   "metadata": {},
   "outputs": [
    {
     "data": {
      "image/png": "[encoded data removed]",
      "text/plain": [
       "<Figure size 432x288 with 1 Axes>"
      ]
     },
     "metadata": {},
     "output_type": "display_data"
    }
   ],
   "source": [
    "#plotting the training and testing loss that we have stored.\n",
    "plt.plot(train_losses, label='Training Loss')\n",
    "plt.plot(test_losses, label='Testing Loss')\n",
    "plt.legend();"
   ]
  },
  {
   "cell_type": "markdown",
   "metadata": {},
   "source": [
    "If you have seen the graph from the previous notebook `Fashion MNIST`, then is a lot better thant that. In that notebook, since we haven't used the `Dropout`, our model will overfit after sometime and hence our validation or testing loss increases. Here since we have used `Dropout` our testing loss decreases gradually."
   ]
  },
  {
   "cell_type": "code",
   "execution_count": 9,
   "metadata": {},
   "outputs": [
    {
     "name": "stdout",
     "output_type": "stream",
     "text": [
      "Sandal\n"
     ]
    },
    {
     "data": {
      "image/png": "[encoded data removed]",
      "text/plain": [
       "<Figure size 1008x432 with 2 Axes>"
      ]
     },
     "metadata": {},
     "output_type": "display_data"
    }
   ],
   "source": [
    "#Here we plot the image and the prediction from the output. \n",
    "\n",
    "#gets the images and labels\n",
    "images, labels = next(iter(testloader))\n",
    "img = images[0].view(1,-1)\n",
    "\n",
    "#passes the images from the model\n",
    "logits = torch.exp(model(img))\n",
    "\n",
    "\n",
    "\n",
    "plt.figure(figsize=[14,6])\n",
    "plt.subplot(1,2,1)\n",
    "plt.imshow(images[0].numpy().squeeze(), cmap='Greys_r')\n",
    "\n",
    "y = logits.detach().numpy()\n",
    "N = y.shape[1]\n",
    "x = np.arange(N)\n",
    "\n",
    "plt.subplot(1,2,2)\n",
    "plt.bar(x,y.squeeze())\n",
    "xl = ['T-shirt/top', 'Trouser', 'Pullover', 'Dress', 'Coat', 'Sandal', 'Shirt', 'Sneaker', 'Bag', 'Ankle boot']\n",
    "plt.xticks(x,xl, rotation=45);\n",
    "\n",
    "print(xl[labels[0].item()])"
   ]
  },
  {
   "cell_type": "code",
   "execution_count": null,
   "metadata": {},
   "outputs": [],
   "source": []
  }
 ],
 "metadata": {
  "kernelspec": {
   "display_name": "Python 3",
   "language": "python",
   "name": "python3"
  },
  "language_info": {
   "codemirror_mode": {
    "name": "ipython",
    "version": 3
   },
   "file_extension": ".py",
   "mimetype": "text/x-python",
   "name": "python",
   "nbconvert_exporter": "python",
   "pygments_lexer": "ipython3",
   "version": "3.6.6"
  }
 },
 "nbformat": 4,
 "nbformat_minor": 2
}
